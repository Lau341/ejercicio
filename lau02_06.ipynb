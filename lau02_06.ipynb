{
 "cells": [
  {
   "cell_type": "code",
   "execution_count": 15,
   "id": "27b557d3",
   "metadata": {},
   "outputs": [],
   "source": [
    "import pandas as pd\n",
    "import seaborn as sns\n",
    "import matplotlib.pyplot as plt"
   ]
  },
  {
   "cell_type": "markdown",
   "id": "4387f7b1",
   "metadata": {},
   "source": [
    "# Leer el archivo CSV"
   ]
  },
  {
   "cell_type": "code",
   "execution_count": 2,
   "id": "88af81c5",
   "metadata": {},
   "outputs": [],
   "source": [
    "df = pd.read_csv(\"users.csv\")"
   ]
  },
  {
   "cell_type": "markdown",
   "id": "cb5d2945",
   "metadata": {},
   "source": [
    "# fILTRAR USUARIOS  MAYORES DE 20 AÑOS DE LOS PAISES: ESPAÑA, FRANCIA Y TURQUIA"
   ]
  },
  {
   "cell_type": "code",
   "execution_count": 3,
   "id": "51fa5e3f",
   "metadata": {},
   "outputs": [],
   "source": [
    "paises = [\"Spain\", \"France\", \"Turkey\"]\n",
    "filtrar_edad = (df['edad'] > 20) & (df['pais'].isin(paises))\n",
    "usuarios_filtrados = df[filtrar_edad]"
   ]
  },
  {
   "cell_type": "markdown",
   "id": "a321b6b8",
   "metadata": {},
   "source": [
    "# OBTENER NOMBRES"
   ]
  },
  {
   "cell_type": "code",
   "execution_count": 4,
   "id": "e180dbbe",
   "metadata": {},
   "outputs": [
    {
     "name": "stdout",
     "output_type": "stream",
     "text": [
      "Nombres de usuarios mayores de 20 años de España, Francia y Turquía:\n",
      "['Mr Noham Dubois', 'Mr Damien Marchand', 'Mr Gerardo Garrido', 'Miss Marina Gutierrez', 'Mr Ilyès Lemaire', 'Mr Giray Beşok', 'Miss Ceylan Nalbantoğlu', 'Miss Victoire Giraud', 'Mr Davut Yazıcı', 'Ms Amparo Gutierrez', 'Mr Diego Hidalgo', 'Ms Emilia Vega', 'Mrs Elif Süleymanoğlu', 'Mrs Ines Moreno', 'Mrs Lorena Cabrera', 'Mr Gökhan Oraloğlu', 'Mrs Lilou Lecomte', 'Miss Louise Richard', 'Ms Deniz Kahveci', 'Ms Nalan Ekici', 'Miss Begüm Akar', 'Mr Eliott Andre', 'Mr Davut Mertoğlu', 'Ms Soledad Lorenzo', 'Mr Vedat Köybaşı', 'Ms Ana Castro', 'Mr Sacha Philippe', 'Ms Oya Biçer', 'Miss Mercedes Fuentes', 'Miss Carmen Vargas', 'Mrs Giulia Fournier', 'Mr Vicente Rojas', 'Mr Raul Bravo', 'Mr Gabriel Berger', 'Mrs Ülkü Tanrıkulu']\n"
     ]
    }
   ],
   "source": [
    "nombres = usuarios_filtrados['nombre'].tolist()\n",
    "print(\"Nombres de usuarios mayores de 20 años de España, Francia y Turquía:\")\n",
    "print(nombres)"
   ]
  },
  {
   "cell_type": "markdown",
   "id": "689eea8c",
   "metadata": {},
   "source": [
    "# CONTAR GENEROS"
   ]
  },
  {
   "cell_type": "code",
   "execution_count": 5,
   "id": "b5d6b795",
   "metadata": {},
   "outputs": [],
   "source": [
    "conteo_genero = usuarios_filtrados['genero'].value_counts()"
   ]
  },
  {
   "cell_type": "markdown",
   "id": "c30feb30",
   "metadata": {},
   "source": [
    "# MOSTRAR CONTEO"
   ]
  },
  {
   "cell_type": "code",
   "execution_count": 6,
   "id": "b7f5f4ce",
   "metadata": {},
   "outputs": [
    {
     "name": "stdout",
     "output_type": "stream",
     "text": [
      "\n",
      "Cantidad por género:\n",
      "genero\n",
      "female    20\n",
      "male      15\n",
      "Name: count, dtype: int64\n"
     ]
    }
   ],
   "source": [
    "print(\"\\nCantidad por género:\")\n",
    "print(conteo_genero)"
   ]
  },
  {
   "cell_type": "markdown",
   "id": "fa148fdf",
   "metadata": {},
   "source": [
    "# GRAFICAR"
   ]
  },
  {
   "cell_type": "code",
   "execution_count": 10,
   "id": "f73046bb",
   "metadata": {},
   "outputs": [],
   "source": [
    "lista = [20,15]"
   ]
  },
  {
   "cell_type": "code",
   "execution_count": 16,
   "id": "3893dc95",
   "metadata": {},
   "outputs": [
    {
     "data": {
      "text/plain": [
       "Text(0, 0.5, 'Edades')"
      ]
     },
     "execution_count": 16,
     "metadata": {},
     "output_type": "execute_result"
    },
    {
     "data": {
      "image/png": "[encoded data removed]",
      "text/plain": [
       "<Figure size 640x480 with 1 Axes>"
      ]
     },
     "metadata": {},
     "output_type": "display_data"
    }
   ],
   "source": [
    "sns.boxplot(data=usuarios_filtrados, x=\"genero\", y=\"edad\")\n",
    "plt.title(\"Conteo de genero de mas de 20 años\")\n",
    "plt.xlabel(\"Generos\")\n",
    "plt.ylabel(\"Edades\")"
   ]
  }
 ],
 "metadata": {
  "kernelspec": {
   "display_name": "Python 3",
   "language": "python",
   "name": "python3"
  },
  "language_info": {
   "codemirror_mode": {
    "name": "ipython",
    "version": 3
   },
   "file_extension": ".py",
   "mimetype": "text/x-python",
   "name": "python",
   "nbconvert_exporter": "python",
   "pygments_lexer": "ipython3",
   "version": "3.13.3"
  }
 },
 "nbformat": 4,
 "nbformat_minor": 5
}
